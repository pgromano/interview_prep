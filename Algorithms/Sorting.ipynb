{
 "cells": [
  {
   "cell_type": "code",
   "execution_count": 1,
   "metadata": {},
   "outputs": [],
   "source": [
    "import random"
   ]
  },
  {
   "cell_type": "markdown",
   "metadata": {},
   "source": [
    "# [Bubble Sort](https://en.wikipedia.org/wiki/Bubble_Sort)\n",
    "\n",
    "**Average**: $\\mathcal{O}(n^2)$\n",
    "|\n",
    "**Worst-Case**: $\\mathcal{O}(n^2)$\n",
    "|\n",
    "**Memory**: $\\mathcal{O}(1)$\n",
    "\n",
    "In bubble sort, we start at the beginning of the array and swap the first two elements if the first is greater than the second. Then, we go to the next pair, and so on, continuously making sweeps of the array until it's sorted. In doing so, the smaller items slowly \"*bubble*\" up to the beginning of the list."
   ]
  },
  {
   "cell_type": "code",
   "execution_count": 34,
   "metadata": {},
   "outputs": [],
   "source": [
    "def bubble_sort(array):\n",
    "    \"\"\" Function to sort an array using bubble sort algorithm \"\"\"\n",
    "    \n",
    "    # Define length of array\n",
    "    N = len(array)\n",
    "    \n",
    "    # Outer loop sets the index for how many elements to compare\n",
    "    for i in range(N):\n",
    "        # Inner loop defines which two neighboring elements are compared\n",
    "        for j in range(N - 1, i, -1):\n",
    "            # If first element is greater than it's neighbor, swap!\n",
    "            if array[j - 1] > array[j]:\n",
    "                array[j], array[j - 1] = array[j - 1], array[j]\n",
    "    return array"
   ]
  },
  {
   "cell_type": "code",
   "execution_count": 26,
   "metadata": {},
   "outputs": [
    {
     "name": "stdout",
     "output_type": "stream",
     "text": [
      "Bubble-Sort Algorithm\n",
      "\n",
      "[3, 14, 35, 81, 94] ➜ [3, 14, 35, 81, 94]\n",
      "[13, 17, 28, 31, 94] ➜ [13, 17, 28, 31, 94]\n",
      "[11, 69, 75, 86, 94] ➜ [11, 69, 75, 86, 94]\n",
      "[3, 4, 11, 27, 54] ➜ [3, 4, 11, 27, 54]\n",
      "[3, 29, 64, 71, 77] ➜ [3, 29, 64, 71, 77]\n",
      "[25, 69, 83, 89, 91] ➜ [25, 69, 83, 89, 91]\n",
      "[28, 35, 53, 57, 75] ➜ [28, 35, 53, 57, 75]\n",
      "[0, 20, 54, 89, 97] ➜ [0, 20, 54, 89, 97]\n",
      "[19, 27, 35, 43, 97] ➜ [19, 27, 35, 43, 97]\n",
      "[11, 12, 13, 43, 48] ➜ [11, 12, 13, 43, 48]\n"
     ]
    }
   ],
   "source": [
    "print(\"Bubble-Sort Algorithm\")\n",
    "print()\n",
    "random.seed(42)\n",
    "for i in range(10):\n",
    "    arr = [random.randint(0, 100) for i in range(5)]\n",
    "    arr_sort = bubble_sort(arr)\n",
    "    print(arr, r'➜', arr_sort)"
   ]
  },
  {
   "cell_type": "code",
   "execution_count": 28,
   "metadata": {},
   "outputs": [
    {
     "name": "stdout",
     "output_type": "stream",
     "text": [
      "3.77 µs ± 57.5 ns per loop (mean ± std. dev. of 7 runs, 100000 loops each)\n"
     ]
    }
   ],
   "source": [
    "%%timeit \n",
    "bubble_sort(arr)"
   ]
  },
  {
   "cell_type": "markdown",
   "metadata": {},
   "source": [
    "# [Merge Sort](https://en.wikipedia.org/wiki/Merge_Sort)\n",
    "\n",
    "**Average**: $\\mathcal{O}(n\\log{}n)$\n",
    "|\n",
    "**Worst-Case**: $\\mathcal{O}(n\\log{}n)$\n",
    "|\n",
    "**Memory**: Depends\n",
    "\n",
    "Merge sort divides the array in half, sorts each of those halves, and then merges them back together. Each of those halves has the same sorting algorithm applied to it. Eventually, you are merging just two sinlgetons. It is the \"*merge*\" part that does all the heavy lifting."
   ]
  },
  {
   "cell_type": "code",
   "execution_count": 38,
   "metadata": {},
   "outputs": [],
   "source": [
    "def merge(low, high):\n",
    "    \"\"\" Helper function to merge two arrays \"\"\"\n",
    "    helper = []\n",
    "    while len(low) != 0 and len(high) != 0:\n",
    "        if low[0] < high[0]:\n",
    "            helper.append(low[0])\n",
    "            low.remove(low[0])\n",
    "        else:\n",
    "            helper.append(high[0])\n",
    "            high.remove(high[0])\n",
    "    if len(low) == 0:\n",
    "        helper += high\n",
    "    else:\n",
    "        helper += low\n",
    "    return helper\n",
    "\n",
    "\n",
    "def merge_sort(array):\n",
    "    \"\"\" Function to sort an array using merge sort algorithm \"\"\"\n",
    "    \n",
    "    # Safety check, ensure array is a singleton\n",
    "    if len(array) < 2:\n",
    "        return array\n",
    "    # Merge sort algorithm\n",
    "    else:\n",
    "        # Define the mid-index of the array\n",
    "        mid = round(len(array) / 2)\n",
    "        \n",
    "        # Create low-end split of array and recursively sort\n",
    "        low = merge_sort(array[:mid])\n",
    "        \n",
    "        # Create high-end split of array and recursively sort\n",
    "        high = merge_sort(array[mid:])\n",
    "        \n",
    "        # Returned merged array\n",
    "        return merge(low, high)"
   ]
  },
  {
   "cell_type": "code",
   "execution_count": 39,
   "metadata": {},
   "outputs": [
    {
     "name": "stdout",
     "output_type": "stream",
     "text": [
      "Merge-Sort Algorithm\n",
      "\n",
      "[81, 14, 3, 94, 35] ➜ [3, 14, 35, 81, 94]\n",
      "[31, 28, 17, 94, 13] ➜ [13, 17, 28, 31, 94]\n",
      "[86, 94, 69, 11, 75] ➜ [11, 69, 75, 86, 94]\n",
      "[54, 4, 3, 11, 27] ➜ [3, 4, 11, 27, 54]\n",
      "[29, 64, 77, 3, 71] ➜ [3, 29, 64, 71, 77]\n",
      "[25, 91, 83, 89, 69] ➜ [25, 69, 83, 89, 91]\n",
      "[53, 28, 57, 75, 35] ➜ [28, 35, 53, 57, 75]\n",
      "[0, 97, 20, 89, 54] ➜ [0, 20, 54, 89, 97]\n",
      "[43, 35, 19, 27, 97] ➜ [19, 27, 35, 43, 97]\n",
      "[43, 13, 11, 48, 12] ➜ [11, 12, 13, 43, 48]\n"
     ]
    }
   ],
   "source": [
    "print(\"Merge-Sort Algorithm\")\n",
    "print()\n",
    "random.seed(42)\n",
    "for i in range(10):\n",
    "    arr = [random.randint(0, 100) for i in range(5)]\n",
    "    arr_sort = merge_sort(arr)\n",
    "    print(arr, r'➜', arr_sort)"
   ]
  },
  {
   "cell_type": "code",
   "execution_count": 40,
   "metadata": {},
   "outputs": [
    {
     "name": "stdout",
     "output_type": "stream",
     "text": [
      "10.7 µs ± 147 ns per loop (mean ± std. dev. of 7 runs, 100000 loops each)\n"
     ]
    }
   ],
   "source": [
    "%%timeit \n",
    "merge_sort(arr)"
   ]
  },
  {
   "cell_type": "markdown",
   "metadata": {},
   "source": [
    "# [Quick Sort](https://en.wikipedia.org/wiki/Quicksort)\n",
    "**Average**: $\\mathcal{O}(n\\log{}n)$\n",
    "|\n",
    "**Worst-Case**: $\\mathcal{O}(n^2)$\n",
    "|\n",
    "**Memory**: $\\mathcal{O}(\\log{}n)$\n",
    "\n",
    "In quck sort, we pick a random element and partition the array, such that all numbers that are less than the partition element come before all elements that are greater than it. The partitioning can be performed efficiently through a series of swaps.\n",
    "\n",
    "If we repeatedly parition the arry (and its sub-arrays) around an element, the array will eventually become sorted. However, as the partitioned element is not guaranteed to be the median (or anywhere near the median), our sorting could be very slow. This isthe reason for the $O(n^2)$ worst case runtime."
   ]
  },
  {
   "cell_type": "code",
   "execution_count": 29,
   "metadata": {},
   "outputs": [],
   "source": [
    "def quick_sort(array):\n",
    "    \"\"\" Function to sort an array using quick sort algorithm \"\"\"\n",
    "    \n",
    "    # Make sure that the array isn't empty!\n",
    "    if len(array) > 1:\n",
    "        # Split data into left, middle, and right trees\n",
    "        left, mid, right = [], [], []\n",
    "        \n",
    "        # Define the pivot as the first entry from unsorted list\n",
    "        pivot = array[0]\n",
    "        \n",
    "        # Iterate through all elements in array\n",
    "        for element in array:\n",
    "            if element < pivot:\n",
    "                left.append(element)\n",
    "            elif element > pivot:\n",
    "                right.append(element)\n",
    "            else:\n",
    "                mid.append(element)\n",
    "        \n",
    "        # If left is not empty, recursively sort\n",
    "        if left != []:\n",
    "            left = quick_sort(left)\n",
    "            \n",
    "        # If right is not empty, recursively sort\n",
    "        if right != []:\n",
    "            right = quick_sort(right)\n",
    "            \n",
    "        # Note: It makes no sense to sort mid, as they should all be equal values!\n",
    "        # Concatenate left, mid, and right branches\n",
    "        return left + mid + right\n",
    "\n",
    "    # This is basically what ends the recursion!\n",
    "    return array"
   ]
  },
  {
   "cell_type": "code",
   "execution_count": 30,
   "metadata": {},
   "outputs": [
    {
     "name": "stdout",
     "output_type": "stream",
     "text": [
      "Quick-Sort Algorithm\n",
      "\n",
      "[81, 14, 3, 94, 35] ➜ [3, 14, 35, 81, 94]\n",
      "[31, 28, 17, 94, 13] ➜ [13, 17, 28, 31, 94]\n",
      "[86, 94, 69, 11, 75] ➜ [11, 69, 75, 86, 94]\n",
      "[54, 4, 3, 11, 27] ➜ [3, 4, 11, 27, 54]\n",
      "[29, 64, 77, 3, 71] ➜ [3, 29, 64, 71, 77]\n",
      "[25, 91, 83, 89, 69] ➜ [25, 69, 83, 89, 91]\n",
      "[53, 28, 57, 75, 35] ➜ [28, 35, 53, 57, 75]\n",
      "[0, 97, 20, 89, 54] ➜ [0, 20, 54, 89, 97]\n",
      "[43, 35, 19, 27, 97] ➜ [19, 27, 35, 43, 97]\n",
      "[43, 13, 11, 48, 12] ➜ [11, 12, 13, 43, 48]\n"
     ]
    }
   ],
   "source": [
    "print(\"Quick-Sort Algorithm\")\n",
    "print()\n",
    "random.seed(42)\n",
    "for i in range(10):\n",
    "    arr = [random.randint(0, 100) for i in range(5)]\n",
    "    arr_sort = quick_sort(arr)\n",
    "    print(arr, r'➜', arr_sort)"
   ]
  },
  {
   "cell_type": "code",
   "execution_count": 31,
   "metadata": {},
   "outputs": [
    {
     "name": "stdout",
     "output_type": "stream",
     "text": [
      "3.68 µs ± 55.9 ns per loop (mean ± std. dev. of 7 runs, 100000 loops each)\n"
     ]
    }
   ],
   "source": [
    "%%timeit \n",
    "quick_sort(arr)"
   ]
  },
  {
   "cell_type": "code",
   "execution_count": null,
   "metadata": {},
   "outputs": [],
   "source": []
  }
 ],
 "metadata": {
  "kernelspec": {
   "display_name": "Python 3.6",
   "language": "python",
   "name": "python3"
  },
  "language_info": {
   "codemirror_mode": {
    "name": "ipython",
    "version": 3
   },
   "file_extension": ".py",
   "mimetype": "text/x-python",
   "name": "python",
   "nbconvert_exporter": "python",
   "pygments_lexer": "ipython3",
   "version": "3.6.3"
  }
 },
 "nbformat": 4,
 "nbformat_minor": 2
}
